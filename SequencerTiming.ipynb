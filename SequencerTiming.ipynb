{
 "cells": [
  {
   "cell_type": "code",
   "execution_count": 1,
   "id": "9cac32e7-edf4-4dfb-bf30-57918c12d0cf",
   "metadata": {
    "execution": {
     "iopub.execute_input": "2023-12-05T01:20:28.068036Z",
     "iopub.status.busy": "2023-12-05T01:20:28.067912Z",
     "iopub.status.idle": "2023-12-05T01:20:28.725115Z",
     "shell.execute_reply": "2023-12-05T01:20:28.724754Z",
     "shell.execute_reply.started": "2023-12-05T01:20:28.068022Z"
    }
   },
   "outputs": [],
   "source": [
    "from lsst.daf.butler import Butler\n",
    "from astropy.table import Table, vstack\n",
    "from astropy.io import fits\n",
    "import requests\n",
    "import re\n",
    "import matplotlib.pyplot as plt\n",
    "import traceback\n",
    "import numpy\n",
    "import matplotlib"
   ]
  },
  {
   "cell_type": "code",
   "execution_count": 57,
   "id": "396a13da-ca83-4482-8c4e-3d758563b377",
   "metadata": {
    "execution": {
     "iopub.execute_input": "2023-12-05T16:52:58.940085Z",
     "iopub.status.busy": "2023-12-05T16:52:58.939665Z",
     "iopub.status.idle": "2023-12-05T16:52:59.085211Z",
     "shell.execute_reply": "2023-12-05T16:52:59.084762Z",
     "shell.execute_reply.started": "2023-12-05T16:52:58.940071Z"
    }
   },
   "outputs": [],
   "source": [
    "repo_path = \"/repo/ir2\"\n",
    "butler = Butler(repo_path,collections=[\n",
    "    #'LSSTCam/photodiode',\n",
    "    'LSSTCam/raw/all'\n",
    "    ],instrument='LSST-TS8')\n",
    "registry = butler.registry"
   ]
  },
  {
   "cell_type": "markdown",
   "id": "2ace08b0-5d9a-421b-8e50-211f42ac665c",
   "metadata": {},
   "source": [
    "Here is the list of the runs\n",
    "```\n",
    "7259D 2023/11/20\tB protocol with the BOT projector, v26noRG\n",
    "7261D 2023/11/21\tB protocol with the BOT projector, FP_ITL_2s_ir2_v27_rt150.seq\n",
    "7263D 2023/11/21\tB protocol with the BOT projector, FP_ITL_2s_ir2_v27_rt300.seq\n",
    "7264D 2023/11/21\tB protocol with the BOT projector, FP_ITL_2s_ir2_v27_rt450.seq\n",
    "7265D 2023/11/21\tB protocol with the BOT projector, FP_ITL_2s_ir2_v27_rt600.seq\n",
    "7266D 2023/11/22\tB protocol with the BOT projector, FP_ITL_2s_ir2_v27_rt750.seq\n",
    "7267D 2023/11/22\tB protocol with the BOT projector, FP_ITL_2s_ir2_v27_rt750_iso1_140.seq\n",
    "7268D 2023/11/22\tB protocol with the BOT projector, FP_ITL_2s_ir2_v27_rt750_iso1_210.seq\n",
    "7269D 2023/11/22\tB protocol with the BOT projector, FP_ITL_2s_ir2_v27_rt750_iso1_70.seq\n",
    "7270D 2023/11/22\tB protocol with the BOT projector, FP_ITL_2s_ir2_v27_rt750_iso2_150.seq\n",
    "7271D 2023/11/22\tB protocol with the BOT projector, FP_ITL_2s_ir2_v27_rt750_iso2_300.seq\n",
    "7272D 2023/11/22\tB protocol with the BOT projector, FP_ITL_2s_ir2_v27_rt750_iso2_450.seq\n",
    "```\n",
    "And explore what's been produced by the standard pipelines"
   ]
  },
  {
   "cell_type": "code",
   "execution_count": 58,
   "id": "a408a6a1-de4f-4086-ac6a-88975e13e639",
   "metadata": {
    "execution": {
     "iopub.execute_input": "2023-12-05T16:53:00.397990Z",
     "iopub.status.busy": "2023-12-05T16:53:00.397587Z",
     "iopub.status.idle": "2023-12-05T16:53:00.459464Z",
     "shell.execute_reply": "2023-12-05T16:53:00.459134Z",
     "shell.execute_reply.started": "2023-12-05T16:53:00.397974Z"
    }
   },
   "outputs": [
    {
     "data": {
      "text/plain": [
       "['u/lsstccs/bias_7259D_w_2023_41/20231121T020845Z',\n",
       " 'u/lsstccs/bias_7259D_w_2023_41/20231121T023556Z',\n",
       " 'u/lsstccs/bias_7259D_w_2023_41/20231121T061706Z',\n",
       " 'u/lsstccs/dark_7259D_w_2023_41/20231121T065917Z',\n",
       " 'u/lsstccs/flat_7259D_w_2023_41/20231121T071446Z',\n",
       " 'u/lsstccs/defects_7259D_w_2023_41/20231121T072019Z',\n",
       " 'u/lsstccs/ptc_7259D_w_2023_41/20231121T154839Z',\n",
       " 'u/lsstccs/eo_read_noise_7259D_w_2023_41/20231121T160755Z',\n",
       " 'u/lsstccs/eo_raft_amp_correlations_7259D_w_2023_41/20231121T160828Z',\n",
       " 'u/lsstccs/eo_dark_current_7259D_w_2023_41/20231121T161026Z',\n",
       " 'u/lsstccs/eo_raft_calib_mosaics_7259D_w_2023_41/20231121T161150Z',\n",
       " 'u/lsstccs/eo_linearity_plots_7259D_w_2023_41/20231121T161242Z',\n",
       " 'u/lsstccs/eo_divisadero_tearing_7259D_w_2023_41/20231121T161310Z',\n",
       " 'u/lsstccs/eo_bright_defects_7259D_w_2023_41/20231121T160931Z',\n",
       " 'u/lsstccs/eo_dark_defects_7259D_w_2023_41/20231121T161001Z',\n",
       " 'u/lsstccs/eo_bf_analysis_7259D_w_2023_41/20231121T161337Z',\n",
       " 'u/lsstccs/eo_eper_7259D_w_2023_41/20231121T161053Z',\n",
       " 'u/lsstccs/eo_raft_lambda_mosaics_7259D_w_2023_41/20231121T161217Z',\n",
       " 'u/lsstccs/eo_ptc_plots_7259D_w_2023_41/20231121T161121Z',\n",
       " 'u/lsstccs/eo_cti_vs_flux_7259D_w_2023_41/20231121T161404Z',\n",
       " 'u/lsstccs/eo_bias_stability_7259D_w_2023_41/20231121T160858Z',\n",
       " 'u/lsstccs/eo_persistence_7259D_w_2023_41/20231121T161435Z',\n",
       " 'u/lsstccs/eo_bias_shifts_7259D_w_2023_41/20231121T161524Z',\n",
       " 'u/lsstccs/bias_7259D_w_2023_41',\n",
       " 'u/lsstccs/dark_7259D_w_2023_41',\n",
       " 'u/lsstccs/flat_7259D_w_2023_41',\n",
       " 'u/lsstccs/defects_7259D_w_2023_41',\n",
       " 'u/lsstccs/ptc_7259D_w_2023_41',\n",
       " 'u/lsstccs/eo_read_noise_7259D_w_2023_41',\n",
       " 'u/lsstccs/eo_raft_amp_correlations_7259D_w_2023_41',\n",
       " 'u/lsstccs/eo_dark_current_7259D_w_2023_41',\n",
       " 'u/lsstccs/eo_raft_calib_mosaics_7259D_w_2023_41',\n",
       " 'u/lsstccs/eo_linearity_plots_7259D_w_2023_41',\n",
       " 'u/lsstccs/eo_divisadero_tearing_7259D_w_2023_41',\n",
       " 'u/lsstccs/eo_bright_defects_7259D_w_2023_41',\n",
       " 'u/lsstccs/eo_dark_defects_7259D_w_2023_41',\n",
       " 'u/lsstccs/eo_bf_analysis_7259D_w_2023_41',\n",
       " 'u/lsstccs/eo_eper_7259D_w_2023_41',\n",
       " 'u/lsstccs/eo_raft_lambda_mosaics_7259D_w_2023_41',\n",
       " 'u/lsstccs/eo_ptc_plots_7259D_w_2023_41',\n",
       " 'u/lsstccs/eo_cti_vs_flux_7259D_w_2023_41',\n",
       " 'u/lsstccs/eo_bias_stability_7259D_w_2023_41',\n",
       " 'u/lsstccs/eo_persistence_7259D_w_2023_41',\n",
       " 'u/lsstccs/eo_bias_shifts_7259D_w_2023_41']"
      ]
     },
     "execution_count": 58,
     "metadata": {},
     "output_type": "execute_result"
    }
   ],
   "source": [
    "list(registry.queryCollections(\"*7259*\"))"
   ]
  },
  {
   "cell_type": "markdown",
   "id": "a64af12f-9c5a-4b31-859a-1f86ee10db4d",
   "metadata": {},
   "source": [
    "Let's explore read noise first and ptc products might be also intesresting to look at"
   ]
  },
  {
   "cell_type": "code",
   "execution_count": 59,
   "id": "34c4207c-1abd-40e2-a406-581df3cc83ef",
   "metadata": {
    "execution": {
     "iopub.execute_input": "2023-12-05T16:53:02.580009Z",
     "iopub.status.busy": "2023-12-05T16:53:02.579802Z",
     "iopub.status.idle": "2023-12-05T16:53:10.205694Z",
     "shell.execute_reply": "2023-12-05T16:53:10.205350Z",
     "shell.execute_reply.started": "2023-12-05T16:53:02.579996Z"
    }
   },
   "outputs": [
    {
     "name": "stdout",
     "output_type": "stream",
     "text": [
      "camera 1\n",
      "raw 908292\n",
      "cpBiasProc 180\n",
      "isr_metadata 1260\n",
      "bias 9\n",
      "isr_config 7\n",
      "packages 8\n",
      "isr_log 1620\n",
      "cpBiasCombine_config 3\n",
      "cpBiasCombine_metadata 9\n",
      "cpBiasCombine_log 9\n",
      "cpFlatMeasure_config 1\n",
      "cpFlatCombine_config 1\n",
      "cpFlatNorm_config 1\n",
      "cpFlatProc 90\n",
      "flatStats 90\n",
      "cpFlatNormScales 1\n",
      "cpFlatMeasure_metadata 90\n",
      "cpFlatMeasure_log 90\n",
      "flat 9\n",
      "cpFlatCombine_metadata 9\n",
      "cpFlatCombine_log 9\n",
      "cpFlatNorm_metadata 1\n",
      "cpFlatNorm_log 1\n",
      "cpDark_config 1\n",
      "cpDarkCombine_config 1\n",
      "cpDarkIsr 81\n",
      "cpDarkProc 81\n",
      "cpDark_metadata 81\n",
      "cpDark_log 81\n",
      "dark 9\n",
      "cpDarkCombine_metadata 9\n",
      "cpDarkCombine_log 9\n",
      "measureDefects_config 1\n",
      "mergeDefects_config 1\n",
      "cpDefectsProc 171\n",
      "cpPartialDefects 171\n",
      "measureDefects_metadata 171\n",
      "measureDefects_log 171\n",
      "defects 9\n",
      "mergeDefects_metadata 9\n",
      "mergeDefects_log 9\n",
      "ptcExtract_config 1\n",
      "ptcSolve_config 1\n",
      "cpPtcProc 738\n",
      "ptcExtract_metadata 9\n",
      "ptcExtract_log 9\n",
      "ptc 9\n",
      "ptcSolve_metadata 9\n",
      "ptcSolve_log 9\n",
      "photodiode 9358\n",
      "cpPtcExtract 738\n",
      "ptcNormalizedCov01 9\n",
      "ptcPlot_log 9\n",
      "ptcARelativeBias 9\n",
      "ptcAandBMatrices 9\n",
      "ptcCov10Mean 9\n",
      "ptcAandBDistance 9\n",
      "ptcCov01Mean 9\n",
      "ptcNormalizedCov10 9\n",
      "ptcVarMeanLog 9\n",
      "ptcVarMean 9\n",
      "ptcPlot_metadata 9\n",
      "ptcACumulativeSum 9\n",
      "ptcPlot_config 1\n",
      "ptcNormalizedVar 9\n",
      "ptcVarResiduals 9\n",
      "readNoiseFpPlots_config 1\n",
      "readNoiseFpPlots_log 1\n",
      "read_noise_plot 1\n",
      "read_noise_hist 1\n",
      "readNoise_metadata 9\n",
      "readNoise_log 9\n",
      "readNoiseFpPlots_metadata 1\n",
      "eo_read_noise 9\n",
      "readNoise_config 1\n"
     ]
    }
   ],
   "source": [
    "collections='u/lsstccs/eo_read_noise_7259D_w_2023_41'\n",
    "for results in registry.queryDatasets(...,collections=collections).byParentDatasetType():\n",
    "    n=results.count(exact=False)\n",
    "    if n==0:\n",
    "        continue\n",
    "    print(results.parentDatasetType.name, n)"
   ]
  },
  {
   "cell_type": "code",
   "execution_count": 5,
   "id": "be5961a4-f188-4af8-9643-796de878ee69",
   "metadata": {
    "execution": {
     "iopub.execute_input": "2023-12-05T01:20:37.561427Z",
     "iopub.status.busy": "2023-12-05T01:20:37.561288Z",
     "iopub.status.idle": "2023-12-05T01:20:37.565992Z",
     "shell.execute_reply": "2023-12-05T01:20:37.565620Z",
     "shell.execute_reply.started": "2023-12-05T01:20:37.561413Z"
    }
   },
   "outputs": [],
   "source": [
    "def getnoisedata( collections ):\n",
    "    # construct tables from eo_read_noise dataset\n",
    "    prototable=[]\n",
    "    for datasetref in list(registry.queryDatasets('eo_read_noise', collections=collections)):\n",
    "        prototable.append(Table.from_pandas(butler.get(datasetref)))\n",
    "    table=vstack(prototable)\n",
    "\n",
    "    # putting seqeuncer file information from their header\n",
    "    itr=registry.queryDatasets( 'isr_metadata', collections=collections, findFirst=True)\n",
    "    with fits.open(butler.getURI('raw',dataId=list(itr.dataIds)[0],collections=collections).geturl(),use_fsspec=True,\n",
    "              fsspec_kwargs = {\n",
    "                  \"endpoint_url\": \"https://s3dfrgw.slac.stanford.edu\"              }\n",
    "             ) as fh:\n",
    "            header=fh[0].header\n",
    "    \n",
    "    table.meta['SEQFILE']=header['SEQFILE']\n",
    "\n",
    "    # retrieving the sequncer paramters from github\n",
    "    gitbase='https://raw.githubusercontent.com/lsst-camera-dh/sequencer-files/long_readout_2023'\n",
    "    if table.meta['SEQFILE']=='FP_ITL_2s_ir2_v26.seq':\n",
    "        r = requests.get(f\"{gitbase}/run6/FP_ITL_2s_ir2_v26.seq\")\n",
    "    else:\n",
    "        r = requests.get(f\"{gitbase}/long_readout_2023/{table.meta['SEQFILE']}\")    \n",
    "    \n",
    "    keys = [\"ISO1\", \"ISO2\", \"RampTime\"]\n",
    "    for akey in keys:\n",
    "        table.meta[akey]=int(re.search(f'{akey}: \\s*([0-9]*) ns',r.text)[1])\n",
    "\n",
    "    return table"
   ]
  },
  {
   "cell_type": "code",
   "execution_count": 6,
   "id": "fae11d8f-0470-47db-889b-000327835492",
   "metadata": {
    "execution": {
     "iopub.execute_input": "2023-12-05T01:20:37.566593Z",
     "iopub.status.busy": "2023-12-05T01:20:37.566467Z",
     "iopub.status.idle": "2023-12-05T01:20:46.369623Z",
     "shell.execute_reply": "2023-12-05T01:20:46.369129Z",
     "shell.execute_reply.started": "2023-12-05T01:20:37.566581Z"
    }
   },
   "outputs": [
    {
     "data": {
      "text/html": [
       "<pre style=\"margin: 0.1em;\n",
       "padding-left: 0.25em;\n",
       "border-left-style: solid;\n",
       "font-family: var(--jp-code-font-family);\n",
       "font-size: var(--jp-code-font-size);\n",
       "line-height: var(--jp-code-line-height);\n",
       "\"><span style=\"color: var(--jp-warn-color2)\">aiobotocore.credentials</span> <span style=\"color: var(--jp-info-color0)\">INFO</span>: Found credentials in shared credentials file: /home/y/youtsumi/.lsst/aws-credentials.ini</pre>"
      ],
      "text/plain": [
       "<IPython.core.display.HTML object>"
      ]
     },
     "metadata": {},
     "output_type": "display_data"
    }
   ],
   "source": [
    "runs=[\"7259D\", \"7261D\", \"7263D\", \"7264D\", \"7265D\", \"7266D\", \"7267D\", \"7268D\", \"7269D\", \"7270D\", \"7271D\", \"7272D\"]\n",
    "tables ={}\n",
    "for run in runs:\n",
    "    try:\n",
    "        tables[run]=getnoisedata(list(registry.queryCollections(f\"*eo_read_noise_{run}*\")))\n",
    "    except:\n",
    "        traceback.print_exc()"
   ]
  },
  {
   "cell_type": "code",
   "execution_count": 56,
   "id": "cbcce3c3-d5c9-4ea8-9326-b6077c096ae5",
   "metadata": {
    "execution": {
     "iopub.execute_input": "2023-12-05T04:11:03.580840Z",
     "iopub.status.busy": "2023-12-05T04:11:03.580654Z",
     "iopub.status.idle": "2023-12-05T04:11:14.524480Z",
     "shell.execute_reply": "2023-12-05T04:11:14.523997Z",
     "shell.execute_reply.started": "2023-12-05T04:11:03.580827Z"
    }
   },
   "outputs": [
    {
     "name": "stderr",
     "output_type": "stream",
     "text": [
      "/tmp/ipykernel_17624/3921234327.py:3: MatplotlibDeprecationWarning: The get_cmap function was deprecated in Matplotlib 3.7 and will be removed two minor releases later. Use ``matplotlib.colormaps[name]`` or ``matplotlib.colormaps.get_cmap(obj)`` instead.\n",
      "  cmap = matplotlib.cm.get_cmap('jet')\n"
     ]
    },
    {
     "data": {
      "image/png": "[encoded data removed]",
      "text/plain": [
       "<Figure size 1000x1000 with 3 Axes>"
      ]
     },
     "metadata": {},
     "output_type": "display_data"
    }
   ],
   "source": [
    "fig,axs=plt.subplots(3,1,figsize=(10,10),sharex=False,sharey=False)\n",
    "\n",
    "cmap = matplotlib.cm.get_cmap('jet')\n",
    "for ax, key in zip(axs,[\"ISO1\", \"ISO2\", \"RampTime\"]):\n",
    "    for i, arun in enumerate(runs[:]):\n",
    "        btable=tables[arun]\n",
    "        tg=btable.group_by(['det_name','amp_name'])\n",
    "        for ch, group in zip(tg.groups.keys, tg.groups):\n",
    "#            print(ch)\n",
    "            if ch['det_name']=='RTM-004_S00':\n",
    "                continue\n",
    "            noise=group['read_noise']\n",
    "            ax.errorbar(btable.meta[key], numpy.mean(noise), yerr=numpy.std(noise), fmt=\"o\", c=cmap(float(i/(len(runs)+1))))\n",
    "\n",
    "    ax.set_xlabel(key)\n",
    "    ax.set_ylabel(\"noise [e-]\")\n",
    "    ax.loglog()\n",
    "x=numpy.arange(360,1200)\n",
    "axs[2].plot(x,9*(x/360)**-0.5)\n",
    "fig.suptitle('Sequencer timing study with TS8')\n",
    "plt.tight_layout()"
   ]
  },
  {
   "cell_type": "code",
   "execution_count": 8,
   "id": "80d4f7f4-6eef-4c35-9ec1-6f0b95771c27",
   "metadata": {
    "execution": {
     "iopub.execute_input": "2023-12-05T01:20:56.932012Z",
     "iopub.status.busy": "2023-12-05T01:20:56.931886Z",
     "iopub.status.idle": "2023-12-05T01:20:56.936320Z",
     "shell.execute_reply": "2023-12-05T01:20:56.935957Z",
     "shell.execute_reply.started": "2023-12-05T01:20:56.931998Z"
    }
   },
   "outputs": [
    {
     "data": {
      "text/html": [
       "<div><i>Table length=2880</i>\n",
       "<table id=\"table140595783964944\" class=\"table-striped table-bordered table-condensed\">\n",
       "<thead><tr><th>run</th><th>exposure_id</th><th>det_name</th><th>amp_name</th><th>read_noise</th><th>bias_level</th></tr></thead>\n",
       "<thead><tr><th>str5</th><th>int64</th><th>str11</th><th>str3</th><th>float64</th><th>float64</th></tr></thead>\n",
       "<tr><td>7272D</td><td>2023112201225</td><td>RTM-004_S00</td><td>C10</td><td>5.372871445989642</td><td>24510.0</td></tr>\n",
       "<tr><td>7272D</td><td>2023112201225</td><td>RTM-004_S00</td><td>C11</td><td>5.58653909197973</td><td>23474.0</td></tr>\n",
       "<tr><td>7272D</td><td>2023112201225</td><td>RTM-004_S00</td><td>C12</td><td>5.637154141510038</td><td>23936.0</td></tr>\n",
       "<tr><td>7272D</td><td>2023112201225</td><td>RTM-004_S00</td><td>C13</td><td>5.756849129704047</td><td>23746.0</td></tr>\n",
       "<tr><td>7272D</td><td>2023112201225</td><td>RTM-004_S00</td><td>C14</td><td>5.807904248062921</td><td>23272.0</td></tr>\n",
       "<tr><td>7272D</td><td>2023112201225</td><td>RTM-004_S00</td><td>C15</td><td>5.8879586680649085</td><td>23711.0</td></tr>\n",
       "<tr><td>7272D</td><td>2023112201225</td><td>RTM-004_S00</td><td>C16</td><td>5.4306185167745955</td><td>24564.0</td></tr>\n",
       "<tr><td>7272D</td><td>2023112201225</td><td>RTM-004_S00</td><td>C17</td><td>3.5711393607638997</td><td>27946.0</td></tr>\n",
       "<tr><td>7272D</td><td>2023112201225</td><td>RTM-004_S00</td><td>C07</td><td>26.514547819533348</td><td>32204.0</td></tr>\n",
       "<tr><td>7272D</td><td>2023112201225</td><td>RTM-004_S00</td><td>C06</td><td>21.458632631005617</td><td>28716.0</td></tr>\n",
       "<tr><td>...</td><td>...</td><td>...</td><td>...</td><td>...</td><td>...</td></tr>\n",
       "<tr><td>7272D</td><td>2023112201244</td><td>RTM-004_S12</td><td>C16</td><td>4.463490570939621</td><td>23588.0</td></tr>\n",
       "<tr><td>7272D</td><td>2023112201244</td><td>RTM-004_S12</td><td>C17</td><td>5.067673089422494</td><td>27385.0</td></tr>\n",
       "<tr><td>7272D</td><td>2023112201244</td><td>RTM-004_S12</td><td>C07</td><td>7.591437999500848</td><td>26105.0</td></tr>\n",
       "<tr><td>7272D</td><td>2023112201244</td><td>RTM-004_S12</td><td>C06</td><td>4.970109741189733</td><td>25082.0</td></tr>\n",
       "<tr><td>7272D</td><td>2023112201244</td><td>RTM-004_S12</td><td>C05</td><td>4.906088711902367</td><td>24434.0</td></tr>\n",
       "<tr><td>7272D</td><td>2023112201244</td><td>RTM-004_S12</td><td>C04</td><td>4.933718228767074</td><td>23501.0</td></tr>\n",
       "<tr><td>7272D</td><td>2023112201244</td><td>RTM-004_S12</td><td>C03</td><td>4.877947465418326</td><td>23720.0</td></tr>\n",
       "<tr><td>7272D</td><td>2023112201244</td><td>RTM-004_S12</td><td>C02</td><td>4.894734178240791</td><td>23374.0</td></tr>\n",
       "<tr><td>7272D</td><td>2023112201244</td><td>RTM-004_S12</td><td>C01</td><td>4.942059410537451</td><td>23312.0</td></tr>\n",
       "<tr><td>7272D</td><td>2023112201244</td><td>RTM-004_S12</td><td>C00</td><td>4.948853617374286</td><td>24728.0</td></tr>\n",
       "</table></div>"
      ],
      "text/plain": [
       "<Table length=2880>\n",
       " run   exposure_id    det_name  amp_name     read_noise     bias_level\n",
       " str5     int64        str11      str3        float64        float64  \n",
       "----- ------------- ----------- -------- ------------------ ----------\n",
       "7272D 2023112201225 RTM-004_S00      C10  5.372871445989642    24510.0\n",
       "7272D 2023112201225 RTM-004_S00      C11   5.58653909197973    23474.0\n",
       "7272D 2023112201225 RTM-004_S00      C12  5.637154141510038    23936.0\n",
       "7272D 2023112201225 RTM-004_S00      C13  5.756849129704047    23746.0\n",
       "7272D 2023112201225 RTM-004_S00      C14  5.807904248062921    23272.0\n",
       "7272D 2023112201225 RTM-004_S00      C15 5.8879586680649085    23711.0\n",
       "7272D 2023112201225 RTM-004_S00      C16 5.4306185167745955    24564.0\n",
       "7272D 2023112201225 RTM-004_S00      C17 3.5711393607638997    27946.0\n",
       "7272D 2023112201225 RTM-004_S00      C07 26.514547819533348    32204.0\n",
       "7272D 2023112201225 RTM-004_S00      C06 21.458632631005617    28716.0\n",
       "  ...           ...         ...      ...                ...        ...\n",
       "7272D 2023112201244 RTM-004_S12      C16  4.463490570939621    23588.0\n",
       "7272D 2023112201244 RTM-004_S12      C17  5.067673089422494    27385.0\n",
       "7272D 2023112201244 RTM-004_S12      C07  7.591437999500848    26105.0\n",
       "7272D 2023112201244 RTM-004_S12      C06  4.970109741189733    25082.0\n",
       "7272D 2023112201244 RTM-004_S12      C05  4.906088711902367    24434.0\n",
       "7272D 2023112201244 RTM-004_S12      C04  4.933718228767074    23501.0\n",
       "7272D 2023112201244 RTM-004_S12      C03  4.877947465418326    23720.0\n",
       "7272D 2023112201244 RTM-004_S12      C02  4.894734178240791    23374.0\n",
       "7272D 2023112201244 RTM-004_S12      C01  4.942059410537451    23312.0\n",
       "7272D 2023112201244 RTM-004_S12      C00  4.948853617374286    24728.0"
      ]
     },
     "execution_count": 8,
     "metadata": {},
     "output_type": "execute_result"
    }
   ],
   "source": [
    "btable"
   ]
  },
  {
   "cell_type": "markdown",
   "id": "80874e5d-eb67-4a02-a076-74863d5b2dd0",
   "metadata": {},
   "source": [
    "PTC"
   ]
  },
  {
   "cell_type": "code",
   "execution_count": 9,
   "id": "8a648895-0800-44b8-8417-99806d56635b",
   "metadata": {
    "execution": {
     "iopub.execute_input": "2023-12-05T01:20:56.936934Z",
     "iopub.status.busy": "2023-12-05T01:20:56.936811Z",
     "iopub.status.idle": "2023-12-05T01:20:56.939242Z",
     "shell.execute_reply": "2023-12-05T01:20:56.938875Z",
     "shell.execute_reply.started": "2023-12-05T01:20:56.936923Z"
    }
   },
   "outputs": [],
   "source": [
    "num=22\n"
   ]
  },
  {
   "cell_type": "code",
   "execution_count": 10,
   "id": "fcb70187-1f10-4b25-9a9a-d770b9a42360",
   "metadata": {
    "execution": {
     "iopub.execute_input": "2023-12-05T01:20:56.939948Z",
     "iopub.status.busy": "2023-12-05T01:20:56.939830Z",
     "iopub.status.idle": "2023-12-05T01:21:03.907999Z",
     "shell.execute_reply": "2023-12-05T01:21:03.907551Z",
     "shell.execute_reply.started": "2023-12-05T01:20:56.939937Z"
    }
   },
   "outputs": [
    {
     "name": "stdout",
     "output_type": "stream",
     "text": [
      "camera 1\n",
      "raw 908292\n",
      "cpBiasProc 180\n",
      "isr_metadata 1260\n",
      "bias 9\n",
      "isr_config 7\n",
      "packages 7\n",
      "isr_log 1620\n",
      "cpBiasCombine_config 3\n",
      "cpBiasCombine_metadata 9\n",
      "cpBiasCombine_log 9\n",
      "cpFlatMeasure_config 1\n",
      "cpFlatCombine_config 1\n",
      "cpFlatNorm_config 1\n",
      "cpFlatProc 90\n",
      "flatStats 90\n",
      "cpFlatNormScales 1\n",
      "cpFlatMeasure_metadata 90\n",
      "cpFlatMeasure_log 90\n",
      "flat 9\n",
      "cpFlatCombine_metadata 9\n",
      "cpFlatCombine_log 9\n",
      "cpFlatNorm_metadata 1\n",
      "cpFlatNorm_log 1\n",
      "cpDark_config 1\n",
      "cpDarkCombine_config 1\n",
      "cpDarkIsr 81\n",
      "cpDarkProc 81\n",
      "cpDark_metadata 81\n",
      "cpDark_log 81\n",
      "dark 9\n",
      "cpDarkCombine_metadata 9\n",
      "cpDarkCombine_log 9\n",
      "measureDefects_config 1\n",
      "mergeDefects_config 1\n",
      "cpDefectsProc 171\n",
      "cpPartialDefects 171\n",
      "measureDefects_metadata 171\n",
      "measureDefects_log 171\n",
      "defects 9\n",
      "mergeDefects_metadata 9\n",
      "mergeDefects_log 9\n",
      "ptcExtract_config 1\n",
      "ptcSolve_config 1\n",
      "cpPtcProc 738\n",
      "ptcExtract_metadata 9\n",
      "ptcExtract_log 9\n",
      "ptc 9\n",
      "ptcSolve_metadata 9\n",
      "ptcSolve_log 9\n",
      "photodiode 9358\n",
      "cpPtcExtract 738\n",
      "ptcNormalizedCov01 9\n",
      "ptcPlot_log 9\n",
      "ptcARelativeBias 9\n",
      "ptcAandBMatrices 9\n",
      "ptcCov10Mean 9\n",
      "ptcAandBDistance 9\n",
      "ptcCov01Mean 9\n",
      "ptcNormalizedCov10 9\n",
      "ptcVarMeanLog 9\n",
      "ptcVarMean 9\n",
      "ptcPlot_metadata 9\n",
      "ptcACumulativeSum 9\n",
      "ptcPlot_config 1\n",
      "ptcNormalizedVar 9\n",
      "ptcVarResiduals 9\n"
     ]
    }
   ],
   "source": [
    "list(registry.queryCollections(\"*ptc*7259*\"))\n",
    "collections='u/lsstccs/ptc_7259D_w_2023_41'\n",
    "for results in registry.queryDatasets(...,collections=collections).byParentDatasetType():\n",
    "    n=results.count(exact=False)\n",
    "    if n==0:\n",
    "        continue\n",
    "    print(results.parentDatasetType.name, n)"
   ]
  },
  {
   "cell_type": "code",
   "execution_count": 11,
   "id": "9445a38d-cfd2-475d-bf09-ff0264741326",
   "metadata": {
    "execution": {
     "iopub.execute_input": "2023-12-05T01:21:03.908724Z",
     "iopub.status.busy": "2023-12-05T01:21:03.908595Z",
     "iopub.status.idle": "2023-12-05T01:21:03.913907Z",
     "shell.execute_reply": "2023-12-05T01:21:03.913563Z",
     "shell.execute_reply.started": "2023-12-05T01:21:03.908711Z"
    }
   },
   "outputs": [],
   "source": [
    "def getptcdata( collections ):\n",
    "    # construct tables from eo_read_noise dataset\n",
    "    prototable=[]\n",
    "    for datasetref in list(registry.queryDatasets('ptc', collections=collections)):\n",
    "        try:\n",
    "            print(datasetref.dataId)\n",
    "            tmptable=butler.get(datasetref).toTable()[0]\n",
    "            det_name=list(registry.queryDimensionRecords(\"detector\",\n",
    "                                                instrument='LSST-TS8',\n",
    "                                                where=f\"detector.id={datasetref.dataId['detector']}\"))[0].full_name\n",
    "            tmptable.add_column(det_name,name='det_name')\n",
    "            prototable.append(tmptable)\n",
    "            print(len(tmptable.colnames))\n",
    "        except:\n",
    "            traceback.print_exc()            \n",
    "    table=vstack(prototable)\n",
    "    print(table)\n",
    "\n",
    "    # putting seqeuncer file information from their header\n",
    "    itr=registry.queryDatasets( 'isr_metadata', collections=collections, findFirst=True)\n",
    "    with fits.open(butler.getURI('raw',dataId=list(itr.dataIds)[0],collections=collections).geturl(),use_fsspec=True,\n",
    "              fsspec_kwargs = {\n",
    "                  \"endpoint_url\": \"https://s3dfrgw.slac.stanford.edu\"              }\n",
    "             ) as fh:\n",
    "            header=fh[0].header\n",
    "    \n",
    "    table.meta['SEQFILE']=header['SEQFILE']\n",
    "    table.add_column(header['RUNNUM'], name='run')\n",
    "\n",
    "    # retrieving the sequncer paramters from github\n",
    "    gitbase='https://raw.githubusercontent.com/lsst-camera-dh/sequencer-files/long_readout_2023'\n",
    "    if table.meta['SEQFILE']=='FP_ITL_2s_ir2_v26.seq':\n",
    "        r = requests.get(f\"{gitbase}/run6/FP_ITL_2s_ir2_v26.seq\")\n",
    "    else:\n",
    "        r = requests.get(f\"{gitbase}/long_readout_2023/{table.meta['SEQFILE']}\")    \n",
    "    \n",
    "    keys = [\"ISO1\", \"ISO2\", \"RampTime\"]\n",
    "    for akey in keys:\n",
    "        table.meta[akey]=int(re.search(f'{akey}: \\s*([0-9]*) ns',r.text)[1])\n",
    "\n",
    "    return table\n"
   ]
  },
  {
   "cell_type": "code",
   "execution_count": 12,
   "id": "e5c4ea22-d24c-41af-9352-43a731b6312e",
   "metadata": {
    "execution": {
     "iopub.execute_input": "2023-12-05T01:21:04.837923Z",
     "iopub.status.busy": "2023-12-05T01:21:04.837803Z",
     "iopub.status.idle": "2023-12-05T01:21:10.686581Z",
     "shell.execute_reply": "2023-12-05T01:21:10.686151Z",
     "shell.execute_reply.started": "2023-12-05T01:21:04.837912Z"
    }
   },
   "outputs": [
    {
     "data": {
      "text/plain": [
       "<matplotlib.legend.Legend at 0x7fdeb49f30d0>"
      ]
     },
     "execution_count": 12,
     "metadata": {},
     "output_type": "execute_result"
    },
    {
     "data": {
      "image/png": "[encoded data removed]",
      "text/plain": [
       "<Figure size 640x480 with 1 Axes>"
      ]
     },
     "metadata": {},
     "output_type": "display_data"
    }
   ],
   "source": [
    "ptctables ={}\n",
    "for run in runs:\n",
    "    try:\n",
    "        amp='C10'\n",
    "        ptc=butler.get('ptc', instrument='LSST-TS8', detector=26, collections=(list(registry.queryCollections(f\"*ptc_{run}_w_2023_41\"))))\n",
    "        plt.plot( ptc.ptcTurnoff[amp]*ptc.gain[amp], \"o\",label=run )\n",
    "    except:\n",
    "        traceback.print_exc()\n",
    "plt.legend()"
   ]
  },
  {
   "cell_type": "code",
   "execution_count": 51,
   "id": "2b064ce3-8f48-419e-a954-4f3674965f8f",
   "metadata": {
    "execution": {
     "iopub.execute_input": "2023-12-05T03:32:15.901301Z",
     "iopub.status.busy": "2023-12-05T03:32:15.900971Z",
     "iopub.status.idle": "2023-12-05T03:32:15.961636Z",
     "shell.execute_reply": "2023-12-05T03:32:15.961269Z",
     "shell.execute_reply.started": "2023-12-05T03:32:15.901285Z"
    }
   },
   "outputs": [
    {
     "data": {
      "text/plain": [
       "['u/lsstccs/ptc_7271D_w_2023_41']"
      ]
     },
     "execution_count": 51,
     "metadata": {},
     "output_type": "execute_result"
    }
   ],
   "source": [
    "(list(registry.queryCollections(f\"*ptc_{run}_w_2023_41\")))"
   ]
  },
  {
   "cell_type": "code",
   "execution_count": 50,
   "id": "fff444c8-a0be-4d52-af30-ee84f7f1f962",
   "metadata": {
    "execution": {
     "iopub.execute_input": "2023-12-05T03:05:12.958142Z",
     "iopub.status.busy": "2023-12-05T03:05:12.957948Z",
     "iopub.status.idle": "2023-12-05T03:05:13.429681Z",
     "shell.execute_reply": "2023-12-05T03:05:13.429214Z",
     "shell.execute_reply.started": "2023-12-05T03:05:12.958129Z"
    }
   },
   "outputs": [
    {
     "data": {
      "image/png": "[encoded data removed]",
      "text/plain": [
       "<Figure size 500x500 with 2 Axes>"
      ]
     },
     "metadata": {},
     "output_type": "display_data"
    }
   ],
   "source": [
    "ptctables ={}\n",
    "#for run in runs:\n",
    "fig,axs=plt.subplots(2,1,figsize=(5,5),sharex=False,sharey=False)\n",
    "\n",
    "detector=22\n",
    "for run in ['7271D']:\n",
    "    try:\n",
    "        amp='C00'\n",
    "        ptc=butler.get('ptc', instrument='LSST-TS8', detector=detector, collections=(list(registry.queryCollections(f\"*ptc_{run}_w_2023_41\"))))\n",
    "        axs[0].plot( ptc.rawMeans[amp], ptc.rawVars[amp]/ptc.rawMeans[amp], \"o\",label=f\"raw\" )\n",
    "        axs[0].plot( ptc.finalMeans[amp], ptc.finalVars[amp]/ptc.finalMeans[amp], \"x\",label=f\"final\" )\n",
    "        axs[1].plot( ptc.rawMeans[amp], ptc.kspValues[amp], \"o\",label=f\"raw\" )\n",
    "        \n",
    "    except:\n",
    "        traceback.print_exc()\n",
    "axs[0].semilogx()\n",
    "axs[1].semilogx()\n",
    "axs[0].legend()\n",
    "plt.suptitle(f\"{detector} -- {amp}\")\n",
    "plt.xlabel('rawMeans')\n",
    "plt.ylabel('var/mean')\n",
    "plt.tight_layout()"
   ]
  },
  {
   "cell_type": "code",
   "execution_count": 52,
   "id": "d9a45dd2-7af1-4bcc-82a8-217e4693ab72",
   "metadata": {
    "execution": {
     "iopub.execute_input": "2023-12-05T03:34:11.684843Z",
     "iopub.status.busy": "2023-12-05T03:34:11.684665Z",
     "iopub.status.idle": "2023-12-05T03:34:11.687596Z",
     "shell.execute_reply": "2023-12-05T03:34:11.687313Z",
     "shell.execute_reply.started": "2023-12-05T03:34:11.684829Z"
    }
   },
   "outputs": [
    {
     "data": {
      "text/plain": [
       "'EXPAPPROXIMATION'"
      ]
     },
     "execution_count": 52,
     "metadata": {},
     "output_type": "execute_result"
    }
   ],
   "source": [
    "ptc.ptcFitType"
   ]
  },
  {
   "cell_type": "code",
   "execution_count": 38,
   "id": "bc044d19-b9d3-4185-bdbb-d913e6b2944a",
   "metadata": {
    "execution": {
     "iopub.execute_input": "2023-12-05T03:01:33.205033Z",
     "iopub.status.busy": "2023-12-05T03:01:33.204826Z",
     "iopub.status.idle": "2023-12-05T03:01:33.213741Z",
     "shell.execute_reply": "2023-12-05T03:01:33.213257Z",
     "shell.execute_reply.started": "2023-12-05T03:01:33.205018Z"
    }
   },
   "outputs": [
    {
     "data": {
      "text/plain": [
       "[detector.RecordClass(instrument='LSST-TS8', id=0, full_name='RTM-002_S00', name_in_raft='S00', raft='RTM-002', purpose='SCIENCE'),\n",
       " detector.RecordClass(instrument='LSST-TS8', id=1, full_name='RTM-002_S01', name_in_raft='S01', raft='RTM-002', purpose='SCIENCE'),\n",
       " detector.RecordClass(instrument='LSST-TS8', id=2, full_name='RTM-002_S02', name_in_raft='S02', raft='RTM-002', purpose='SCIENCE'),\n",
       " detector.RecordClass(instrument='LSST-TS8', id=3, full_name='RTM-002_S10', name_in_raft='S10', raft='RTM-002', purpose='SCIENCE'),\n",
       " detector.RecordClass(instrument='LSST-TS8', id=4, full_name='RTM-002_S11', name_in_raft='S11', raft='RTM-002', purpose='SCIENCE'),\n",
       " detector.RecordClass(instrument='LSST-TS8', id=5, full_name='RTM-002_S12', name_in_raft='S12', raft='RTM-002', purpose='SCIENCE'),\n",
       " detector.RecordClass(instrument='LSST-TS8', id=6, full_name='RTM-002_S20', name_in_raft='S20', raft='RTM-002', purpose='SCIENCE'),\n",
       " detector.RecordClass(instrument='LSST-TS8', id=7, full_name='RTM-002_S21', name_in_raft='S21', raft='RTM-002', purpose='SCIENCE'),\n",
       " detector.RecordClass(instrument='LSST-TS8', id=8, full_name='RTM-002_S22', name_in_raft='S22', raft='RTM-002', purpose='SCIENCE'),\n",
       " detector.RecordClass(instrument='LSST-TS8', id=9, full_name='RTM-003_S00', name_in_raft='S00', raft='RTM-003', purpose='SCIENCE'),\n",
       " detector.RecordClass(instrument='LSST-TS8', id=10, full_name='RTM-003_S01', name_in_raft='S01', raft='RTM-003', purpose='SCIENCE'),\n",
       " detector.RecordClass(instrument='LSST-TS8', id=11, full_name='RTM-003_S02', name_in_raft='S02', raft='RTM-003', purpose='SCIENCE'),\n",
       " detector.RecordClass(instrument='LSST-TS8', id=12, full_name='RTM-003_S10', name_in_raft='S10', raft='RTM-003', purpose='SCIENCE'),\n",
       " detector.RecordClass(instrument='LSST-TS8', id=13, full_name='RTM-003_S11', name_in_raft='S11', raft='RTM-003', purpose='SCIENCE'),\n",
       " detector.RecordClass(instrument='LSST-TS8', id=14, full_name='RTM-003_S12', name_in_raft='S12', raft='RTM-003', purpose='SCIENCE'),\n",
       " detector.RecordClass(instrument='LSST-TS8', id=15, full_name='RTM-003_S20', name_in_raft='S20', raft='RTM-003', purpose='SCIENCE'),\n",
       " detector.RecordClass(instrument='LSST-TS8', id=16, full_name='RTM-003_S21', name_in_raft='S21', raft='RTM-003', purpose='SCIENCE'),\n",
       " detector.RecordClass(instrument='LSST-TS8', id=17, full_name='RTM-003_S22', name_in_raft='S22', raft='RTM-003', purpose='SCIENCE'),\n",
       " detector.RecordClass(instrument='LSST-TS8', id=18, full_name='RTM-004_S00', name_in_raft='S00', raft='RTM-004', purpose='SCIENCE'),\n",
       " detector.RecordClass(instrument='LSST-TS8', id=19, full_name='RTM-004_S01', name_in_raft='S01', raft='RTM-004', purpose='SCIENCE'),\n",
       " detector.RecordClass(instrument='LSST-TS8', id=20, full_name='RTM-004_S02', name_in_raft='S02', raft='RTM-004', purpose='SCIENCE'),\n",
       " detector.RecordClass(instrument='LSST-TS8', id=21, full_name='RTM-004_S10', name_in_raft='S10', raft='RTM-004', purpose='SCIENCE'),\n",
       " detector.RecordClass(instrument='LSST-TS8', id=22, full_name='RTM-004_S11', name_in_raft='S11', raft='RTM-004', purpose='SCIENCE'),\n",
       " detector.RecordClass(instrument='LSST-TS8', id=23, full_name='RTM-004_S12', name_in_raft='S12', raft='RTM-004', purpose='SCIENCE'),\n",
       " detector.RecordClass(instrument='LSST-TS8', id=24, full_name='RTM-004_S20', name_in_raft='S20', raft='RTM-004', purpose='SCIENCE'),\n",
       " detector.RecordClass(instrument='LSST-TS8', id=25, full_name='RTM-004_S21', name_in_raft='S21', raft='RTM-004', purpose='SCIENCE'),\n",
       " detector.RecordClass(instrument='LSST-TS8', id=26, full_name='RTM-004_S22', name_in_raft='S22', raft='RTM-004', purpose='SCIENCE'),\n",
       " detector.RecordClass(instrument='LSST-TS8', id=27, full_name='RTM-005_S00', name_in_raft='S00', raft='RTM-005', purpose='SCIENCE'),\n",
       " detector.RecordClass(instrument='LSST-TS8', id=28, full_name='RTM-005_S01', name_in_raft='S01', raft='RTM-005', purpose='SCIENCE'),\n",
       " detector.RecordClass(instrument='LSST-TS8', id=29, full_name='RTM-005_S02', name_in_raft='S02', raft='RTM-005', purpose='SCIENCE'),\n",
       " detector.RecordClass(instrument='LSST-TS8', id=30, full_name='RTM-005_S10', name_in_raft='S10', raft='RTM-005', purpose='SCIENCE'),\n",
       " detector.RecordClass(instrument='LSST-TS8', id=31, full_name='RTM-005_S11', name_in_raft='S11', raft='RTM-005', purpose='SCIENCE'),\n",
       " detector.RecordClass(instrument='LSST-TS8', id=32, full_name='RTM-005_S12', name_in_raft='S12', raft='RTM-005', purpose='SCIENCE'),\n",
       " detector.RecordClass(instrument='LSST-TS8', id=33, full_name='RTM-005_S20', name_in_raft='S20', raft='RTM-005', purpose='SCIENCE'),\n",
       " detector.RecordClass(instrument='LSST-TS8', id=34, full_name='RTM-005_S21', name_in_raft='S21', raft='RTM-005', purpose='SCIENCE'),\n",
       " detector.RecordClass(instrument='LSST-TS8', id=35, full_name='RTM-005_S22', name_in_raft='S22', raft='RTM-005', purpose='SCIENCE'),\n",
       " detector.RecordClass(instrument='LSST-TS8', id=36, full_name='RTM-006_S00', name_in_raft='S00', raft='RTM-006', purpose='SCIENCE'),\n",
       " detector.RecordClass(instrument='LSST-TS8', id=37, full_name='RTM-006_S01', name_in_raft='S01', raft='RTM-006', purpose='SCIENCE'),\n",
       " detector.RecordClass(instrument='LSST-TS8', id=38, full_name='RTM-006_S02', name_in_raft='S02', raft='RTM-006', purpose='SCIENCE'),\n",
       " detector.RecordClass(instrument='LSST-TS8', id=39, full_name='RTM-006_S10', name_in_raft='S10', raft='RTM-006', purpose='SCIENCE'),\n",
       " detector.RecordClass(instrument='LSST-TS8', id=40, full_name='RTM-006_S11', name_in_raft='S11', raft='RTM-006', purpose='SCIENCE'),\n",
       " detector.RecordClass(instrument='LSST-TS8', id=41, full_name='RTM-006_S12', name_in_raft='S12', raft='RTM-006', purpose='SCIENCE'),\n",
       " detector.RecordClass(instrument='LSST-TS8', id=42, full_name='RTM-006_S20', name_in_raft='S20', raft='RTM-006', purpose='SCIENCE'),\n",
       " detector.RecordClass(instrument='LSST-TS8', id=43, full_name='RTM-006_S21', name_in_raft='S21', raft='RTM-006', purpose='SCIENCE'),\n",
       " detector.RecordClass(instrument='LSST-TS8', id=44, full_name='RTM-006_S22', name_in_raft='S22', raft='RTM-006', purpose='SCIENCE'),\n",
       " detector.RecordClass(instrument='LSST-TS8', id=45, full_name='RTM-007_S00', name_in_raft='S00', raft='RTM-007', purpose='SCIENCE'),\n",
       " detector.RecordClass(instrument='LSST-TS8', id=46, full_name='RTM-007_S01', name_in_raft='S01', raft='RTM-007', purpose='SCIENCE'),\n",
       " detector.RecordClass(instrument='LSST-TS8', id=47, full_name='RTM-007_S02', name_in_raft='S02', raft='RTM-007', purpose='SCIENCE'),\n",
       " detector.RecordClass(instrument='LSST-TS8', id=48, full_name='RTM-007_S10', name_in_raft='S10', raft='RTM-007', purpose='SCIENCE'),\n",
       " detector.RecordClass(instrument='LSST-TS8', id=49, full_name='RTM-007_S11', name_in_raft='S11', raft='RTM-007', purpose='SCIENCE'),\n",
       " detector.RecordClass(instrument='LSST-TS8', id=50, full_name='RTM-007_S12', name_in_raft='S12', raft='RTM-007', purpose='SCIENCE'),\n",
       " detector.RecordClass(instrument='LSST-TS8', id=51, full_name='RTM-007_S20', name_in_raft='S20', raft='RTM-007', purpose='SCIENCE'),\n",
       " detector.RecordClass(instrument='LSST-TS8', id=52, full_name='RTM-007_S21', name_in_raft='S21', raft='RTM-007', purpose='SCIENCE'),\n",
       " detector.RecordClass(instrument='LSST-TS8', id=53, full_name='RTM-007_S22', name_in_raft='S22', raft='RTM-007', purpose='SCIENCE'),\n",
       " detector.RecordClass(instrument='LSST-TS8', id=54, full_name='RTM-008_S00', name_in_raft='S00', raft='RTM-008', purpose='SCIENCE'),\n",
       " detector.RecordClass(instrument='LSST-TS8', id=55, full_name='RTM-008_S01', name_in_raft='S01', raft='RTM-008', purpose='SCIENCE'),\n",
       " detector.RecordClass(instrument='LSST-TS8', id=56, full_name='RTM-008_S02', name_in_raft='S02', raft='RTM-008', purpose='SCIENCE'),\n",
       " detector.RecordClass(instrument='LSST-TS8', id=57, full_name='RTM-008_S10', name_in_raft='S10', raft='RTM-008', purpose='SCIENCE'),\n",
       " detector.RecordClass(instrument='LSST-TS8', id=58, full_name='RTM-008_S11', name_in_raft='S11', raft='RTM-008', purpose='SCIENCE'),\n",
       " detector.RecordClass(instrument='LSST-TS8', id=59, full_name='RTM-008_S12', name_in_raft='S12', raft='RTM-008', purpose='SCIENCE'),\n",
       " detector.RecordClass(instrument='LSST-TS8', id=60, full_name='RTM-008_S20', name_in_raft='S20', raft='RTM-008', purpose='SCIENCE'),\n",
       " detector.RecordClass(instrument='LSST-TS8', id=61, full_name='RTM-008_S21', name_in_raft='S21', raft='RTM-008', purpose='SCIENCE'),\n",
       " detector.RecordClass(instrument='LSST-TS8', id=62, full_name='RTM-008_S22', name_in_raft='S22', raft='RTM-008', purpose='SCIENCE'),\n",
       " detector.RecordClass(instrument='LSST-TS8', id=63, full_name='RTM-010_S00', name_in_raft='S00', raft='RTM-010', purpose='SCIENCE'),\n",
       " detector.RecordClass(instrument='LSST-TS8', id=64, full_name='RTM-010_S01', name_in_raft='S01', raft='RTM-010', purpose='SCIENCE'),\n",
       " detector.RecordClass(instrument='LSST-TS8', id=65, full_name='RTM-010_S02', name_in_raft='S02', raft='RTM-010', purpose='SCIENCE'),\n",
       " detector.RecordClass(instrument='LSST-TS8', id=66, full_name='RTM-010_S10', name_in_raft='S10', raft='RTM-010', purpose='SCIENCE'),\n",
       " detector.RecordClass(instrument='LSST-TS8', id=67, full_name='RTM-010_S11', name_in_raft='S11', raft='RTM-010', purpose='SCIENCE'),\n",
       " detector.RecordClass(instrument='LSST-TS8', id=68, full_name='RTM-010_S12', name_in_raft='S12', raft='RTM-010', purpose='SCIENCE'),\n",
       " detector.RecordClass(instrument='LSST-TS8', id=69, full_name='RTM-010_S20', name_in_raft='S20', raft='RTM-010', purpose='SCIENCE'),\n",
       " detector.RecordClass(instrument='LSST-TS8', id=70, full_name='RTM-010_S21', name_in_raft='S21', raft='RTM-010', purpose='SCIENCE'),\n",
       " detector.RecordClass(instrument='LSST-TS8', id=71, full_name='RTM-010_S22', name_in_raft='S22', raft='RTM-010', purpose='SCIENCE'),\n",
       " detector.RecordClass(instrument='LSST-TS8', id=72, full_name='RTM-011_S00', name_in_raft='S00', raft='RTM-011', purpose='SCIENCE'),\n",
       " detector.RecordClass(instrument='LSST-TS8', id=73, full_name='RTM-011_S01', name_in_raft='S01', raft='RTM-011', purpose='SCIENCE'),\n",
       " detector.RecordClass(instrument='LSST-TS8', id=74, full_name='RTM-011_S02', name_in_raft='S02', raft='RTM-011', purpose='SCIENCE'),\n",
       " detector.RecordClass(instrument='LSST-TS8', id=75, full_name='RTM-011_S10', name_in_raft='S10', raft='RTM-011', purpose='SCIENCE'),\n",
       " detector.RecordClass(instrument='LSST-TS8', id=76, full_name='RTM-011_S11', name_in_raft='S11', raft='RTM-011', purpose='SCIENCE'),\n",
       " detector.RecordClass(instrument='LSST-TS8', id=77, full_name='RTM-011_S12', name_in_raft='S12', raft='RTM-011', purpose='SCIENCE'),\n",
       " detector.RecordClass(instrument='LSST-TS8', id=78, full_name='RTM-011_S20', name_in_raft='S20', raft='RTM-011', purpose='SCIENCE'),\n",
       " detector.RecordClass(instrument='LSST-TS8', id=79, full_name='RTM-011_S21', name_in_raft='S21', raft='RTM-011', purpose='SCIENCE'),\n",
       " detector.RecordClass(instrument='LSST-TS8', id=80, full_name='RTM-011_S22', name_in_raft='S22', raft='RTM-011', purpose='SCIENCE'),\n",
       " detector.RecordClass(instrument='LSST-TS8', id=81, full_name='RTM-012_S00', name_in_raft='S00', raft='RTM-012', purpose='SCIENCE'),\n",
       " detector.RecordClass(instrument='LSST-TS8', id=82, full_name='RTM-012_S01', name_in_raft='S01', raft='RTM-012', purpose='SCIENCE'),\n",
       " detector.RecordClass(instrument='LSST-TS8', id=83, full_name='RTM-012_S02', name_in_raft='S02', raft='RTM-012', purpose='SCIENCE'),\n",
       " detector.RecordClass(instrument='LSST-TS8', id=84, full_name='RTM-012_S10', name_in_raft='S10', raft='RTM-012', purpose='SCIENCE'),\n",
       " detector.RecordClass(instrument='LSST-TS8', id=85, full_name='RTM-012_S11', name_in_raft='S11', raft='RTM-012', purpose='SCIENCE'),\n",
       " detector.RecordClass(instrument='LSST-TS8', id=86, full_name='RTM-012_S12', name_in_raft='S12', raft='RTM-012', purpose='SCIENCE'),\n",
       " detector.RecordClass(instrument='LSST-TS8', id=87, full_name='RTM-012_S20', name_in_raft='S20', raft='RTM-012', purpose='SCIENCE'),\n",
       " detector.RecordClass(instrument='LSST-TS8', id=88, full_name='RTM-012_S21', name_in_raft='S21', raft='RTM-012', purpose='SCIENCE'),\n",
       " detector.RecordClass(instrument='LSST-TS8', id=89, full_name='RTM-012_S22', name_in_raft='S22', raft='RTM-012', purpose='SCIENCE'),\n",
       " detector.RecordClass(instrument='LSST-TS8', id=90, full_name='RTM-014_S00', name_in_raft='S00', raft='RTM-014', purpose='SCIENCE'),\n",
       " detector.RecordClass(instrument='LSST-TS8', id=91, full_name='RTM-014_S01', name_in_raft='S01', raft='RTM-014', purpose='SCIENCE'),\n",
       " detector.RecordClass(instrument='LSST-TS8', id=92, full_name='RTM-014_S02', name_in_raft='S02', raft='RTM-014', purpose='SCIENCE'),\n",
       " detector.RecordClass(instrument='LSST-TS8', id=93, full_name='RTM-014_S10', name_in_raft='S10', raft='RTM-014', purpose='SCIENCE'),\n",
       " detector.RecordClass(instrument='LSST-TS8', id=94, full_name='RTM-014_S11', name_in_raft='S11', raft='RTM-014', purpose='SCIENCE'),\n",
       " detector.RecordClass(instrument='LSST-TS8', id=95, full_name='RTM-014_S12', name_in_raft='S12', raft='RTM-014', purpose='SCIENCE'),\n",
       " detector.RecordClass(instrument='LSST-TS8', id=96, full_name='RTM-014_S20', name_in_raft='S20', raft='RTM-014', purpose='SCIENCE'),\n",
       " detector.RecordClass(instrument='LSST-TS8', id=97, full_name='RTM-014_S21', name_in_raft='S21', raft='RTM-014', purpose='SCIENCE'),\n",
       " detector.RecordClass(instrument='LSST-TS8', id=98, full_name='RTM-014_S22', name_in_raft='S22', raft='RTM-014', purpose='SCIENCE'),\n",
       " detector.RecordClass(instrument='LSST-TS8', id=99, full_name='RTM-023_S00', name_in_raft='S00', raft='RTM-023', purpose='SCIENCE'),\n",
       " detector.RecordClass(instrument='LSST-TS8', id=100, full_name='RTM-023_S01', name_in_raft='S01', raft='RTM-023', purpose='SCIENCE'),\n",
       " detector.RecordClass(instrument='LSST-TS8', id=101, full_name='RTM-023_S02', name_in_raft='S02', raft='RTM-023', purpose='SCIENCE'),\n",
       " detector.RecordClass(instrument='LSST-TS8', id=102, full_name='RTM-023_S10', name_in_raft='S10', raft='RTM-023', purpose='SCIENCE'),\n",
       " detector.RecordClass(instrument='LSST-TS8', id=103, full_name='RTM-023_S11', name_in_raft='S11', raft='RTM-023', purpose='SCIENCE'),\n",
       " detector.RecordClass(instrument='LSST-TS8', id=104, full_name='RTM-023_S12', name_in_raft='S12', raft='RTM-023', purpose='SCIENCE'),\n",
       " detector.RecordClass(instrument='LSST-TS8', id=105, full_name='RTM-023_S20', name_in_raft='S20', raft='RTM-023', purpose='SCIENCE'),\n",
       " detector.RecordClass(instrument='LSST-TS8', id=106, full_name='RTM-023_S21', name_in_raft='S21', raft='RTM-023', purpose='SCIENCE'),\n",
       " detector.RecordClass(instrument='LSST-TS8', id=107, full_name='RTM-023_S22', name_in_raft='S22', raft='RTM-023', purpose='SCIENCE'),\n",
       " detector.RecordClass(instrument='LSST-TS8', id=108, full_name='RTM-013_S00', name_in_raft='S00', raft='RTM-013', purpose='SCIENCE'),\n",
       " detector.RecordClass(instrument='LSST-TS8', id=109, full_name='RTM-013_S01', name_in_raft='S01', raft='RTM-013', purpose='SCIENCE'),\n",
       " detector.RecordClass(instrument='LSST-TS8', id=110, full_name='RTM-013_S02', name_in_raft='S02', raft='RTM-013', purpose='SCIENCE'),\n",
       " detector.RecordClass(instrument='LSST-TS8', id=111, full_name='RTM-013_S10', name_in_raft='S10', raft='RTM-013', purpose='SCIENCE'),\n",
       " detector.RecordClass(instrument='LSST-TS8', id=112, full_name='RTM-013_S11', name_in_raft='S11', raft='RTM-013', purpose='SCIENCE'),\n",
       " detector.RecordClass(instrument='LSST-TS8', id=113, full_name='RTM-013_S12', name_in_raft='S12', raft='RTM-013', purpose='SCIENCE'),\n",
       " detector.RecordClass(instrument='LSST-TS8', id=114, full_name='RTM-013_S20', name_in_raft='S20', raft='RTM-013', purpose='SCIENCE'),\n",
       " detector.RecordClass(instrument='LSST-TS8', id=115, full_name='RTM-013_S21', name_in_raft='S21', raft='RTM-013', purpose='SCIENCE'),\n",
       " detector.RecordClass(instrument='LSST-TS8', id=116, full_name='RTM-013_S22', name_in_raft='S22', raft='RTM-013', purpose='SCIENCE'),\n",
       " detector.RecordClass(instrument='LSST-TS8', id=117, full_name='RTM-015_S00', name_in_raft='S00', raft='RTM-015', purpose='SCIENCE'),\n",
       " detector.RecordClass(instrument='LSST-TS8', id=118, full_name='RTM-015_S01', name_in_raft='S01', raft='RTM-015', purpose='SCIENCE'),\n",
       " detector.RecordClass(instrument='LSST-TS8', id=119, full_name='RTM-015_S02', name_in_raft='S02', raft='RTM-015', purpose='SCIENCE'),\n",
       " detector.RecordClass(instrument='LSST-TS8', id=120, full_name='RTM-015_S10', name_in_raft='S10', raft='RTM-015', purpose='SCIENCE'),\n",
       " detector.RecordClass(instrument='LSST-TS8', id=121, full_name='RTM-015_S11', name_in_raft='S11', raft='RTM-015', purpose='SCIENCE'),\n",
       " detector.RecordClass(instrument='LSST-TS8', id=122, full_name='RTM-015_S12', name_in_raft='S12', raft='RTM-015', purpose='SCIENCE'),\n",
       " detector.RecordClass(instrument='LSST-TS8', id=123, full_name='RTM-015_S20', name_in_raft='S20', raft='RTM-015', purpose='SCIENCE'),\n",
       " detector.RecordClass(instrument='LSST-TS8', id=124, full_name='RTM-015_S21', name_in_raft='S21', raft='RTM-015', purpose='SCIENCE'),\n",
       " detector.RecordClass(instrument='LSST-TS8', id=125, full_name='RTM-015_S22', name_in_raft='S22', raft='RTM-015', purpose='SCIENCE'),\n",
       " detector.RecordClass(instrument='LSST-TS8', id=126, full_name='RTM-016_S00', name_in_raft='S00', raft='RTM-016', purpose='SCIENCE'),\n",
       " detector.RecordClass(instrument='LSST-TS8', id=127, full_name='RTM-016_S01', name_in_raft='S01', raft='RTM-016', purpose='SCIENCE'),\n",
       " detector.RecordClass(instrument='LSST-TS8', id=128, full_name='RTM-016_S02', name_in_raft='S02', raft='RTM-016', purpose='SCIENCE'),\n",
       " detector.RecordClass(instrument='LSST-TS8', id=129, full_name='RTM-016_S10', name_in_raft='S10', raft='RTM-016', purpose='SCIENCE'),\n",
       " detector.RecordClass(instrument='LSST-TS8', id=130, full_name='RTM-016_S11', name_in_raft='S11', raft='RTM-016', purpose='SCIENCE'),\n",
       " detector.RecordClass(instrument='LSST-TS8', id=131, full_name='RTM-016_S12', name_in_raft='S12', raft='RTM-016', purpose='SCIENCE'),\n",
       " detector.RecordClass(instrument='LSST-TS8', id=132, full_name='RTM-016_S20', name_in_raft='S20', raft='RTM-016', purpose='SCIENCE'),\n",
       " detector.RecordClass(instrument='LSST-TS8', id=133, full_name='RTM-016_S21', name_in_raft='S21', raft='RTM-016', purpose='SCIENCE'),\n",
       " detector.RecordClass(instrument='LSST-TS8', id=134, full_name='RTM-016_S22', name_in_raft='S22', raft='RTM-016', purpose='SCIENCE'),\n",
       " detector.RecordClass(instrument='LSST-TS8', id=135, full_name='RTM-019_S00', name_in_raft='S00', raft='RTM-019', purpose='SCIENCE'),\n",
       " detector.RecordClass(instrument='LSST-TS8', id=136, full_name='RTM-019_S01', name_in_raft='S01', raft='RTM-019', purpose='SCIENCE'),\n",
       " detector.RecordClass(instrument='LSST-TS8', id=137, full_name='RTM-019_S02', name_in_raft='S02', raft='RTM-019', purpose='SCIENCE'),\n",
       " detector.RecordClass(instrument='LSST-TS8', id=138, full_name='RTM-019_S10', name_in_raft='S10', raft='RTM-019', purpose='SCIENCE'),\n",
       " detector.RecordClass(instrument='LSST-TS8', id=139, full_name='RTM-019_S11', name_in_raft='S11', raft='RTM-019', purpose='SCIENCE'),\n",
       " detector.RecordClass(instrument='LSST-TS8', id=140, full_name='RTM-019_S12', name_in_raft='S12', raft='RTM-019', purpose='SCIENCE'),\n",
       " detector.RecordClass(instrument='LSST-TS8', id=141, full_name='RTM-019_S20', name_in_raft='S20', raft='RTM-019', purpose='SCIENCE'),\n",
       " detector.RecordClass(instrument='LSST-TS8', id=142, full_name='RTM-019_S21', name_in_raft='S21', raft='RTM-019', purpose='SCIENCE'),\n",
       " detector.RecordClass(instrument='LSST-TS8', id=143, full_name='RTM-019_S22', name_in_raft='S22', raft='RTM-019', purpose='SCIENCE'),\n",
       " detector.RecordClass(instrument='LSST-TS8', id=144, full_name='RTM-020_S00', name_in_raft='S00', raft='RTM-020', purpose='SCIENCE'),\n",
       " detector.RecordClass(instrument='LSST-TS8', id=145, full_name='RTM-020_S01', name_in_raft='S01', raft='RTM-020', purpose='SCIENCE'),\n",
       " detector.RecordClass(instrument='LSST-TS8', id=146, full_name='RTM-020_S02', name_in_raft='S02', raft='RTM-020', purpose='SCIENCE'),\n",
       " detector.RecordClass(instrument='LSST-TS8', id=147, full_name='RTM-020_S10', name_in_raft='S10', raft='RTM-020', purpose='SCIENCE'),\n",
       " detector.RecordClass(instrument='LSST-TS8', id=148, full_name='RTM-020_S11', name_in_raft='S11', raft='RTM-020', purpose='SCIENCE'),\n",
       " detector.RecordClass(instrument='LSST-TS8', id=149, full_name='RTM-020_S12', name_in_raft='S12', raft='RTM-020', purpose='SCIENCE'),\n",
       " detector.RecordClass(instrument='LSST-TS8', id=150, full_name='RTM-020_S20', name_in_raft='S20', raft='RTM-020', purpose='SCIENCE'),\n",
       " detector.RecordClass(instrument='LSST-TS8', id=151, full_name='RTM-020_S21', name_in_raft='S21', raft='RTM-020', purpose='SCIENCE'),\n",
       " detector.RecordClass(instrument='LSST-TS8', id=152, full_name='RTM-020_S22', name_in_raft='S22', raft='RTM-020', purpose='SCIENCE'),\n",
       " detector.RecordClass(instrument='LSST-TS8', id=153, full_name='RTM-021_S00', name_in_raft='S00', raft='RTM-021', purpose='SCIENCE'),\n",
       " detector.RecordClass(instrument='LSST-TS8', id=154, full_name='RTM-021_S01', name_in_raft='S01', raft='RTM-021', purpose='SCIENCE'),\n",
       " detector.RecordClass(instrument='LSST-TS8', id=155, full_name='RTM-021_S02', name_in_raft='S02', raft='RTM-021', purpose='SCIENCE'),\n",
       " detector.RecordClass(instrument='LSST-TS8', id=156, full_name='RTM-021_S10', name_in_raft='S10', raft='RTM-021', purpose='SCIENCE'),\n",
       " detector.RecordClass(instrument='LSST-TS8', id=157, full_name='RTM-021_S11', name_in_raft='S11', raft='RTM-021', purpose='SCIENCE'),\n",
       " detector.RecordClass(instrument='LSST-TS8', id=158, full_name='RTM-021_S12', name_in_raft='S12', raft='RTM-021', purpose='SCIENCE'),\n",
       " detector.RecordClass(instrument='LSST-TS8', id=159, full_name='RTM-021_S20', name_in_raft='S20', raft='RTM-021', purpose='SCIENCE'),\n",
       " detector.RecordClass(instrument='LSST-TS8', id=160, full_name='RTM-021_S21', name_in_raft='S21', raft='RTM-021', purpose='SCIENCE'),\n",
       " detector.RecordClass(instrument='LSST-TS8', id=161, full_name='RTM-021_S22', name_in_raft='S22', raft='RTM-021', purpose='SCIENCE'),\n",
       " detector.RecordClass(instrument='LSST-TS8', id=162, full_name='RTM-022_S00', name_in_raft='S00', raft='RTM-022', purpose='SCIENCE'),\n",
       " detector.RecordClass(instrument='LSST-TS8', id=163, full_name='RTM-022_S01', name_in_raft='S01', raft='RTM-022', purpose='SCIENCE'),\n",
       " detector.RecordClass(instrument='LSST-TS8', id=164, full_name='RTM-022_S02', name_in_raft='S02', raft='RTM-022', purpose='SCIENCE'),\n",
       " detector.RecordClass(instrument='LSST-TS8', id=165, full_name='RTM-022_S10', name_in_raft='S10', raft='RTM-022', purpose='SCIENCE'),\n",
       " detector.RecordClass(instrument='LSST-TS8', id=166, full_name='RTM-022_S11', name_in_raft='S11', raft='RTM-022', purpose='SCIENCE'),\n",
       " detector.RecordClass(instrument='LSST-TS8', id=167, full_name='RTM-022_S12', name_in_raft='S12', raft='RTM-022', purpose='SCIENCE'),\n",
       " detector.RecordClass(instrument='LSST-TS8', id=168, full_name='RTM-022_S20', name_in_raft='S20', raft='RTM-022', purpose='SCIENCE'),\n",
       " detector.RecordClass(instrument='LSST-TS8', id=169, full_name='RTM-022_S21', name_in_raft='S21', raft='RTM-022', purpose='SCIENCE'),\n",
       " detector.RecordClass(instrument='LSST-TS8', id=170, full_name='RTM-022_S22', name_in_raft='S22', raft='RTM-022', purpose='SCIENCE'),\n",
       " detector.RecordClass(instrument='LSST-TS8', id=171, full_name='RTM-024_S00', name_in_raft='S00', raft='RTM-024', purpose='SCIENCE'),\n",
       " detector.RecordClass(instrument='LSST-TS8', id=172, full_name='RTM-024_S01', name_in_raft='S01', raft='RTM-024', purpose='SCIENCE'),\n",
       " detector.RecordClass(instrument='LSST-TS8', id=173, full_name='RTM-024_S02', name_in_raft='S02', raft='RTM-024', purpose='SCIENCE'),\n",
       " detector.RecordClass(instrument='LSST-TS8', id=174, full_name='RTM-024_S10', name_in_raft='S10', raft='RTM-024', purpose='SCIENCE'),\n",
       " detector.RecordClass(instrument='LSST-TS8', id=175, full_name='RTM-024_S11', name_in_raft='S11', raft='RTM-024', purpose='SCIENCE'),\n",
       " detector.RecordClass(instrument='LSST-TS8', id=176, full_name='RTM-024_S12', name_in_raft='S12', raft='RTM-024', purpose='SCIENCE'),\n",
       " detector.RecordClass(instrument='LSST-TS8', id=177, full_name='RTM-024_S20', name_in_raft='S20', raft='RTM-024', purpose='SCIENCE'),\n",
       " detector.RecordClass(instrument='LSST-TS8', id=178, full_name='RTM-024_S21', name_in_raft='S21', raft='RTM-024', purpose='SCIENCE'),\n",
       " detector.RecordClass(instrument='LSST-TS8', id=179, full_name='RTM-024_S22', name_in_raft='S22', raft='RTM-024', purpose='SCIENCE'),\n",
       " detector.RecordClass(instrument='LSST-TS8', id=180, full_name='RTM-025_S00', name_in_raft='S00', raft='RTM-025', purpose='SCIENCE'),\n",
       " detector.RecordClass(instrument='LSST-TS8', id=181, full_name='RTM-025_S01', name_in_raft='S01', raft='RTM-025', purpose='SCIENCE'),\n",
       " detector.RecordClass(instrument='LSST-TS8', id=182, full_name='RTM-025_S02', name_in_raft='S02', raft='RTM-025', purpose='SCIENCE'),\n",
       " detector.RecordClass(instrument='LSST-TS8', id=183, full_name='RTM-025_S10', name_in_raft='S10', raft='RTM-025', purpose='SCIENCE'),\n",
       " detector.RecordClass(instrument='LSST-TS8', id=184, full_name='RTM-025_S11', name_in_raft='S11', raft='RTM-025', purpose='SCIENCE'),\n",
       " detector.RecordClass(instrument='LSST-TS8', id=185, full_name='RTM-025_S12', name_in_raft='S12', raft='RTM-025', purpose='SCIENCE'),\n",
       " detector.RecordClass(instrument='LSST-TS8', id=186, full_name='RTM-025_S20', name_in_raft='S20', raft='RTM-025', purpose='SCIENCE'),\n",
       " detector.RecordClass(instrument='LSST-TS8', id=187, full_name='RTM-025_S21', name_in_raft='S21', raft='RTM-025', purpose='SCIENCE'),\n",
       " detector.RecordClass(instrument='LSST-TS8', id=188, full_name='RTM-025_S22', name_in_raft='S22', raft='RTM-025', purpose='SCIENCE'),\n",
       " detector.RecordClass(instrument='LSST-TS8', id=189, full_name='RTM-031_S00', name_in_raft='S00', raft='RTM-031', purpose='SCIENCE'),\n",
       " detector.RecordClass(instrument='LSST-TS8', id=190, full_name='RTM-031_S01', name_in_raft='S01', raft='RTM-031', purpose='SCIENCE'),\n",
       " detector.RecordClass(instrument='LSST-TS8', id=191, full_name='RTM-031_S02', name_in_raft='S02', raft='RTM-031', purpose='SCIENCE'),\n",
       " detector.RecordClass(instrument='LSST-TS8', id=192, full_name='RTM-031_S10', name_in_raft='S10', raft='RTM-031', purpose='SCIENCE'),\n",
       " detector.RecordClass(instrument='LSST-TS8', id=193, full_name='RTM-031_S11', name_in_raft='S11', raft='RTM-031', purpose='SCIENCE'),\n",
       " detector.RecordClass(instrument='LSST-TS8', id=194, full_name='RTM-031_S12', name_in_raft='S12', raft='RTM-031', purpose='SCIENCE'),\n",
       " detector.RecordClass(instrument='LSST-TS8', id=195, full_name='RTM-031_S20', name_in_raft='S20', raft='RTM-031', purpose='SCIENCE'),\n",
       " detector.RecordClass(instrument='LSST-TS8', id=196, full_name='RTM-031_S21', name_in_raft='S21', raft='RTM-031', purpose='SCIENCE'),\n",
       " detector.RecordClass(instrument='LSST-TS8', id=197, full_name='RTM-031_S22', name_in_raft='S22', raft='RTM-031', purpose='SCIENCE'),\n",
       " detector.RecordClass(instrument='LSST-TS8', id=198, full_name='RTM-009_S00', name_in_raft='S00', raft='RTM-009', purpose='SCIENCE'),\n",
       " detector.RecordClass(instrument='LSST-TS8', id=199, full_name='RTM-009_S01', name_in_raft='S01', raft='RTM-009', purpose='SCIENCE'),\n",
       " detector.RecordClass(instrument='LSST-TS8', id=200, full_name='RTM-009_S02', name_in_raft='S02', raft='RTM-009', purpose='SCIENCE'),\n",
       " detector.RecordClass(instrument='LSST-TS8', id=201, full_name='RTM-009_S10', name_in_raft='S10', raft='RTM-009', purpose='SCIENCE'),\n",
       " detector.RecordClass(instrument='LSST-TS8', id=202, full_name='RTM-009_S11', name_in_raft='S11', raft='RTM-009', purpose='SCIENCE'),\n",
       " detector.RecordClass(instrument='LSST-TS8', id=203, full_name='RTM-009_S12', name_in_raft='S12', raft='RTM-009', purpose='SCIENCE'),\n",
       " detector.RecordClass(instrument='LSST-TS8', id=204, full_name='RTM-009_S20', name_in_raft='S20', raft='RTM-009', purpose='SCIENCE'),\n",
       " detector.RecordClass(instrument='LSST-TS8', id=205, full_name='RTM-009_S21', name_in_raft='S21', raft='RTM-009', purpose='SCIENCE'),\n",
       " detector.RecordClass(instrument='LSST-TS8', id=206, full_name='RTM-009_S22', name_in_raft='S22', raft='RTM-009', purpose='SCIENCE'),\n",
       " detector.RecordClass(instrument='LSST-TS8', id=207, full_name='RTM-017_S00', name_in_raft='S00', raft='RTM-017', purpose='SCIENCE'),\n",
       " detector.RecordClass(instrument='LSST-TS8', id=208, full_name='RTM-017_S01', name_in_raft='S01', raft='RTM-017', purpose='SCIENCE'),\n",
       " detector.RecordClass(instrument='LSST-TS8', id=209, full_name='RTM-017_S02', name_in_raft='S02', raft='RTM-017', purpose='SCIENCE'),\n",
       " detector.RecordClass(instrument='LSST-TS8', id=210, full_name='RTM-017_S10', name_in_raft='S10', raft='RTM-017', purpose='SCIENCE'),\n",
       " detector.RecordClass(instrument='LSST-TS8', id=211, full_name='RTM-017_S11', name_in_raft='S11', raft='RTM-017', purpose='SCIENCE'),\n",
       " detector.RecordClass(instrument='LSST-TS8', id=212, full_name='RTM-017_S12', name_in_raft='S12', raft='RTM-017', purpose='SCIENCE'),\n",
       " detector.RecordClass(instrument='LSST-TS8', id=213, full_name='RTM-017_S20', name_in_raft='S20', raft='RTM-017', purpose='SCIENCE'),\n",
       " detector.RecordClass(instrument='LSST-TS8', id=214, full_name='RTM-017_S21', name_in_raft='S21', raft='RTM-017', purpose='SCIENCE'),\n",
       " detector.RecordClass(instrument='LSST-TS8', id=215, full_name='RTM-017_S22', name_in_raft='S22', raft='RTM-017', purpose='SCIENCE'),\n",
       " detector.RecordClass(instrument='LSST-TS8', id=216, full_name='RTM-018_S00', name_in_raft='S00', raft='RTM-018', purpose='SCIENCE'),\n",
       " detector.RecordClass(instrument='LSST-TS8', id=217, full_name='RTM-018_S01', name_in_raft='S01', raft='RTM-018', purpose='SCIENCE'),\n",
       " detector.RecordClass(instrument='LSST-TS8', id=218, full_name='RTM-018_S02', name_in_raft='S02', raft='RTM-018', purpose='SCIENCE'),\n",
       " detector.RecordClass(instrument='LSST-TS8', id=219, full_name='RTM-018_S10', name_in_raft='S10', raft='RTM-018', purpose='SCIENCE'),\n",
       " detector.RecordClass(instrument='LSST-TS8', id=220, full_name='RTM-018_S11', name_in_raft='S11', raft='RTM-018', purpose='SCIENCE'),\n",
       " detector.RecordClass(instrument='LSST-TS8', id=221, full_name='RTM-018_S12', name_in_raft='S12', raft='RTM-018', purpose='SCIENCE'),\n",
       " detector.RecordClass(instrument='LSST-TS8', id=222, full_name='RTM-018_S20', name_in_raft='S20', raft='RTM-018', purpose='SCIENCE'),\n",
       " detector.RecordClass(instrument='LSST-TS8', id=223, full_name='RTM-018_S21', name_in_raft='S21', raft='RTM-018', purpose='SCIENCE'),\n",
       " detector.RecordClass(instrument='LSST-TS8', id=224, full_name='RTM-018_S22', name_in_raft='S22', raft='RTM-018', purpose='SCIENCE')]"
      ]
     },
     "execution_count": 38,
     "metadata": {},
     "output_type": "execute_result"
    }
   ],
   "source": [
    "list(registry.queryDimensionRecords(\"detector\",\n",
    "                          instrument='LSST-TS8' )) #, where='detector.raft=\"RTM-004\"'))"
   ]
  }
 ],
 "metadata": {
  "kernelspec": {
   "display_name": "LSST",
   "language": "python",
   "name": "lsst"
  },
  "language_info": {
   "codemirror_mode": {
    "name": "ipython",
    "version": 3
   },
   "file_extension": ".py",
   "mimetype": "text/x-python",
   "name": "python",
   "nbconvert_exporter": "python",
   "pygments_lexer": "ipython3",
   "version": "3.11.4"
  }
 },
 "nbformat": 4,
 "nbformat_minor": 5
}
